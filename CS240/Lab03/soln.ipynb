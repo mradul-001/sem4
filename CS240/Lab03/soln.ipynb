{
 "cells": [
  {
   "cell_type": "code",
   "execution_count": 1,
   "metadata": {},
   "outputs": [
    {
     "name": "stderr",
     "output_type": "stream",
     "text": [
      "/usr/local/lib/python3.10/dist-packages/matplotlib/projections/__init__.py:63: UserWarning: Unable to import Axes3D. This may be due to multiple versions of Matplotlib being installed (e.g. as a system package and as a pip package). As a result, the 3D projection is not available.\n",
      "  warnings.warn(\"Unable to import Axes3D. This may be due to multiple versions of \"\n"
     ]
    }
   ],
   "source": [
    "import numpy as np\n",
    "import matplotlib.pyplot as plt\n",
    "from utils import plot_points, plot_decision_boundary"
   ]
  },
  {
   "cell_type": "markdown",
   "metadata": {},
   "source": [
    "### Input data"
   ]
  },
  {
   "cell_type": "code",
   "execution_count": 2,
   "metadata": {},
   "outputs": [],
   "source": [
    "X_data = np.array (\n",
    "    [\n",
    "        [0, 0, -1],\n",
    "        [0, 1, -1],\n",
    "        [1, 0, -1],\n",
    "        [1, 1, -1]\n",
    "    ]\n",
    ")"
   ]
  },
  {
   "cell_type": "markdown",
   "metadata": {},
   "source": [
    "### Real ouput data"
   ]
  },
  {
   "cell_type": "code",
   "execution_count": 3,
   "metadata": {},
   "outputs": [],
   "source": [
    "y_nand = np.array([1, 1, 1, 0])\n",
    "y_nor  = np.array([0, 0, 0, 1])\n",
    "y_xor  = np.array([0, 1, 1, 0])\n",
    "y_xnor = np.array([1, 0, 0, 1])"
   ]
  },
  {
   "cell_type": "markdown",
   "metadata": {},
   "source": [
    "### Function to compute negation of zero class datapoints"
   ]
  },
  {
   "cell_type": "code",
   "execution_count": 4,
   "metadata": {},
   "outputs": [],
   "source": [
    "def negateZeroClass(X, y):\n",
    "    X_copy = np.copy(X)\n",
    "    for i in range(4):\n",
    "        if y[i] == 0:\n",
    "            for j in range(3):\n",
    "                X_copy[i][j] *= -1\n",
    "    return X_copy"
   ]
  },
  {
   "cell_type": "code",
   "execution_count": 5,
   "metadata": {},
   "outputs": [],
   "source": [
    "X_nand = negateZeroClass(X_data, y_nand)\n",
    "X_nor  = negateZeroClass(X_data, y_nor)\n",
    "X_xor  = negateZeroClass(X_data, y_xor)\n",
    "X_xnor = negateZeroClass(X_data, y_xnor)"
   ]
  },
  {
   "cell_type": "markdown",
   "metadata": {},
   "source": [
    "### Function to train the perceptron"
   ]
  },
  {
   "cell_type": "code",
   "execution_count": 158,
   "metadata": {},
   "outputs": [
    {
     "ename": "",
     "evalue": "",
     "output_type": "error",
     "traceback": [
      "\u001b[1;31mRunning cells with 'Python 3.12.3' requires the ipykernel package.\n",
      "\u001b[1;31mRun the following command to install 'ipykernel' into the Python environment. \n",
      "\u001b[1;31mCommand: '/usr/bin/python3 -m pip install ipykernel -U --user --force-reinstall'"
     ]
    }
   ],
   "source": [
    "def trainPerceptron(X):\n",
    "\n",
    "    # default value for w: (0, 0, 0)\n",
    "    w = np.ones((1, 3)).reshape(1, 3)[0]\n",
    "\n",
    "    # training the perceptron\n",
    "    passed = False\n",
    "    it = 0\n",
    "    while passed == False and it < 1000:\n",
    "        it += 1\n",
    "        for i in range(4):\n",
    "            \n",
    "            if np.dot(X[i].reshape(1, 3)[0], w) <= 0:\n",
    "                w = w + X[i].reshape(1, 3)[0]\n",
    "                i = 0\n",
    "                \n",
    "            if i == 3:\n",
    "                passed = True\n",
    "    return w"
   ]
  },
  {
   "cell_type": "code",
   "execution_count": 159,
   "metadata": {},
   "outputs": [],
   "source": [
    "w_nand = trainPerceptron(X_nand)\n",
    "w_nor = trainPerceptron(X_nor)\n",
    "w_xor = trainPerceptron(X_xor)\n",
    "w_xnor = trainPerceptron(X_xnor)"
   ]
  },
  {
   "cell_type": "code",
   "execution_count": 160,
   "metadata": {},
   "outputs": [
    {
     "data": {
      "text/plain": [
       "(array([-3., -2., -4.]),\n",
       " array([3., 2., 4.]),\n",
       " array([0., 1., 0.]),\n",
       " array([1., 1., 1.]))"
      ]
     },
     "execution_count": 160,
     "metadata": {},
     "output_type": "execute_result"
    }
   ],
   "source": [
    "w_nand, w_nor, w_xor, w_xnor"
   ]
  },
  {
   "cell_type": "markdown",
   "metadata": {},
   "source": [
    "### Plotting the decision boundary"
   ]
  },
  {
   "cell_type": "code",
   "execution_count": 161,
   "metadata": {},
   "outputs": [
    {
     "data": {
      "image/png": "[encoded data removed]",
      "text/plain": [
       "<Figure size 216x216 with 1 Axes>"
      ]
     },
     "metadata": {
      "needs_background": "light"
     },
     "output_type": "display_data"
    }
   ],
   "source": [
    "plot_decision_boundary(X_nand[:, :-1], y_nand, w_nand)"
   ]
  },
  {
   "cell_type": "code",
   "execution_count": 162,
   "metadata": {},
   "outputs": [
    {
     "data": {
      "image/png": "[encoded data removed]",
      "text/plain": [
       "<Figure size 216x216 with 1 Axes>"
      ]
     },
     "metadata": {
      "needs_background": "light"
     },
     "output_type": "display_data"
    }
   ],
   "source": [
    "plot_decision_boundary(X_nor[:, :-1], y_nor, w_nor)"
   ]
  },
  {
   "cell_type": "code",
   "execution_count": 163,
   "metadata": {},
   "outputs": [
    {
     "data": {
      "image/png": "[encoded data removed]",
      "text/plain": [
       "<Figure size 216x216 with 1 Axes>"
      ]
     },
     "metadata": {
      "needs_background": "light"
     },
     "output_type": "display_data"
    }
   ],
   "source": [
    "plot_decision_boundary(X_xor[:, :-1], y_xor, w_xor)"
   ]
  },
  {
   "cell_type": "code",
   "execution_count": 164,
   "metadata": {},
   "outputs": [
    {
     "data": {
      "image/png": "[encoded data removed]",
      "text/plain": [
       "<Figure size 216x216 with 1 Axes>"
      ]
     },
     "metadata": {
      "needs_background": "light"
     },
     "output_type": "display_data"
    }
   ],
   "source": [
    "plot_decision_boundary(X_xnor[:, :-1], y_xnor, w_xnor)"
   ]
  },
  {
   "cell_type": "markdown",
   "metadata": {},
   "source": [
    "### Sigmoid function"
   ]
  },
  {
   "cell_type": "code",
   "execution_count": 56,
   "metadata": {},
   "outputs": [],
   "source": [
    "def sigmoid (a):\n",
    "    return 1/(1 + np.exp(-a))"
   ]
  },
  {
   "cell_type": "markdown",
   "metadata": {},
   "source": [
    "### Perceptron training function with sigmoid"
   ]
  },
  {
   "cell_type": "code",
   "execution_count": 165,
   "metadata": {},
   "outputs": [],
   "source": [
    "def trainPerceptronWithSigmoid(X, y):\n",
    "\n",
    "    # default value for w: (0, 0)\n",
    "    w = np.zeros(2)\n",
    "    theta = 0\n",
    "    lr = 0.1\n",
    "\n",
    "    # training iterations\n",
    "    for i in range(10):\n",
    "\n",
    "        output = np.dot(X, w) + theta\n",
    "        yPred  = sigmoid(output)\n",
    "\n",
    "        # compute the change in parameters\n",
    "        dw0    = X.shape[1] * np.sum((y - yPred) * (yPred) * (1 - yPred) * X[:, 0]) \n",
    "        dw1    = X.shape[1] * np.sum((y - yPred) * (yPred) * (1 - yPred) * X[:, 1]) \n",
    "        dtheta = X.shape[1] * np.sum((y - yPred) * (yPred) * (1 - yPred) * -1)\n",
    "\n",
    "        # update the parameters\n",
    "        w[0]   = w[0]  + lr * dw0\n",
    "        w[1]   = w[1]  + lr * dw1\n",
    "        theta  = theta + lr * dtheta\n",
    "\n",
    "    return (w, theta)    "
   ]
  },
  {
   "cell_type": "code",
   "execution_count": 166,
   "metadata": {},
   "outputs": [],
   "source": [
    "w, theta = trainPerceptronWithSigmoid(X_nand[:, :2], y_nand)\n",
    "w_nand = np.array([theta, w[0], w[1]])\n",
    "\n",
    "w, theta = trainPerceptronWithSigmoid(X_nor[:, :2], y_nor)\n",
    "w_nor = np.array([theta, w[0], w[1]])\n",
    "\n",
    "w, theta = trainPerceptronWithSigmoid(X_xor[:, :2], y_xor)\n",
    "w_xor = np.array([theta, w[0], w[1]])\n",
    "\n",
    "w, theta = trainPerceptronWithSigmoid(X_xnor[:, :2], y_xnor)\n",
    "w_xnor = np.array([theta, w[0], w[1]])"
   ]
  },
  {
   "cell_type": "markdown",
   "metadata": {},
   "source": [
    "### Plotting decision boundary"
   ]
  },
  {
   "cell_type": "code",
   "execution_count": 167,
   "metadata": {},
   "outputs": [
    {
     "data": {
      "image/png": "[encoded data removed]",
      "text/plain": [
       "<Figure size 216x216 with 1 Axes>"
      ]
     },
     "metadata": {
      "needs_background": "light"
     },
     "output_type": "display_data"
    }
   ],
   "source": [
    "plot_decision_boundary(X_nand[:, :2], y_nand, w_nand)"
   ]
  },
  {
   "cell_type": "code",
   "execution_count": 168,
   "metadata": {},
   "outputs": [
    {
     "data": {
      "image/png": "[encoded data removed]",
      "text/plain": [
       "<Figure size 216x216 with 1 Axes>"
      ]
     },
     "metadata": {
      "needs_background": "light"
     },
     "output_type": "display_data"
    }
   ],
   "source": [
    "plot_decision_boundary(X_nor[:, :2], y_nor, w_nor)"
   ]
  },
  {
   "cell_type": "code",
   "execution_count": 169,
   "metadata": {},
   "outputs": [
    {
     "data": {
      "image/png": "[encoded data removed]",
      "text/plain": [
       "<Figure size 216x216 with 1 Axes>"
      ]
     },
     "metadata": {
      "needs_background": "light"
     },
     "output_type": "display_data"
    }
   ],
   "source": [
    "plot_decision_boundary(X_xor[:, :2], y_xor, w_xor)"
   ]
  },
  {
   "cell_type": "code",
   "execution_count": 170,
   "metadata": {},
   "outputs": [
    {
     "data": {
      "image/png": "[encoded data removed]",
      "text/plain": [
       "<Figure size 216x216 with 1 Axes>"
      ]
     },
     "metadata": {
      "needs_background": "light"
     },
     "output_type": "display_data"
    }
   ],
   "source": [
    "plot_decision_boundary(X_xnor[:, :2], y_xnor, w_xnor)"
   ]
  },
  {
   "cell_type": "code",
   "execution_count": null,
   "metadata": {},
   "outputs": [],
   "source": []
  },
  {
   "cell_type": "code",
   "execution_count": null,
   "metadata": {},
   "outputs": [],
   "source": []
  }
 ],
 "metadata": {
  "kernelspec": {
   "display_name": "Python 3",
   "language": "python",
   "name": "python3"
  },
  "language_info": {
   "codemirror_mode": {
    "name": "ipython",
    "version": 3
   },
   "file_extension": ".py",
   "mimetype": "text/x-python",
   "name": "python",
   "nbconvert_exporter": "python",
   "pygments_lexer": "ipython3",
   "version": "3.12.3"
  }
 },
 "nbformat": 4,
 "nbformat_minor": 4
}
