{
 "cells": [
  {
   "cell_type": "code",
   "execution_count": 679,
   "metadata": {},
   "outputs": [],
   "source": [
    "import numpy as np\n",
    "import pandas as pd\n",
    "import matplotlib.pyplot as plt"
   ]
  },
  {
   "cell_type": "markdown",
   "metadata": {},
   "source": [
    "#### MNIST dataset"
   ]
  },
  {
   "cell_type": "code",
   "execution_count": 680,
   "metadata": {},
   "outputs": [],
   "source": [
    "# Function to one-hot encode the target variable into the 10 classes (0-9)\n",
    "# Input shape: (N,),    Output: (N, 10)\n",
    "def one_hot(Y):\n",
    "    one_hot_Y = np.zeros((Y.size, 10))\n",
    "    one_hot_Y[np.arange(Y.size), Y] = 1\n",
    "    return one_hot_Y"
   ]
  },
  {
   "cell_type": "code",
   "execution_count": 681,
   "metadata": {},
   "outputs": [],
   "source": [
    "# Loading the MNIST dataset\n",
    "train_data=pd.read_csv(r\"./mnist_train.csv\")\n",
    "test_data=pd.read_csv(r\"./mnist_test.csv\")\n",
    "\n",
    "# Preprocessing the data\n",
    "train_data=train_data.to_numpy()    # train_data shape: (60000, 785)\n",
    "test_data=test_data.to_numpy()      # test_data shape: (10000, 785)\n",
    "\n",
    "X_train=train_data[:,1:]            # X_train shape: (60000, 784)\n",
    "y_train=train_data[:,0]             # y_train shape: (60000,)\n",
    "X_test=test_data[:,1:]              # X_test shape: (10000, 784)\n",
    "y_test=test_data[:,0]               # y_test shape: (10000,)\n",
    "\n",
    "X_train = X_train / 255.0           # Normalizing the data\n",
    "X_test = X_test / 255.0\n",
    "\n",
    "one_hot_y_train = one_hot(y_train)  # one_hot_y_train shape: (60000, 10)\n",
    "one_hot_y_test = one_hot(y_test)    # one_hot_y_test shape: (10000, 10)"
   ]
  },
  {
   "cell_type": "code",
   "execution_count": 682,
   "metadata": {},
   "outputs": [],
   "source": [
    "y_train = y_train.reshape(-1, 1)"
   ]
  },
  {
   "cell_type": "code",
   "execution_count": 683,
   "metadata": {},
   "outputs": [
    {
     "data": {
      "text/plain": [
       "array([[5],\n",
       "       [0],\n",
       "       [4],\n",
       "       ...,\n",
       "       [5],\n",
       "       [6],\n",
       "       [8]], shape=(60000, 1))"
      ]
     },
     "execution_count": 683,
     "metadata": {},
     "output_type": "execute_result"
    }
   ],
   "source": [
    "y_train"
   ]
  },
  {
   "cell_type": "markdown",
   "metadata": {},
   "source": [
    "#### Training on the other Boolean functions"
   ]
  },
  {
   "cell_type": "code",
   "execution_count": 684,
   "metadata": {},
   "outputs": [],
   "source": [
    "x_xor = np.array([[0, 0], [0, 1], [1, 0], [1, 1]])\n",
    "y_xor = np.array([0, 1, 1, 0])"
   ]
  },
  {
   "cell_type": "code",
   "execution_count": 685,
   "metadata": {},
   "outputs": [],
   "source": [
    "x_palindrome = []\n",
    "for i in [0, 1]:\n",
    "    for j in [0, 1]:\n",
    "        for k in [0, 1]:\n",
    "            for l in [0, 1]:\n",
    "                for m in [0, 1]:\n",
    "                    x_palindrome.append([i, j, k, l, m])\n",
    "\n",
    "y_palindrome = []\n",
    "for ele in x_palindrome:\n",
    "    if (ele == ele[::-1]):\n",
    "        y_palindrome.append(1)\n",
    "    else:\n",
    "        y_palindrome.append(0)\n",
    "\n",
    "x_palindrome = np.array(x_palindrome)\n",
    "y_palindrome = np.array(y_palindrome)"
   ]
  },
  {
   "cell_type": "code",
   "execution_count": 686,
   "metadata": {},
   "outputs": [],
   "source": [
    "x_majority = []\n",
    "for i in [0, 1]:\n",
    "    for j in [0, 1]:\n",
    "        for k in [0, 1]:\n",
    "            for l in [0, 1]:\n",
    "                for m in [0, 1]:\n",
    "                    x_majority.append([i, j, k, l, m])\n",
    "\n",
    "y_majority = []\n",
    "for ele in x_majority:\n",
    "    count = 0\n",
    "    for i in ele:\n",
    "        if i == 1:\n",
    "            count += 1\n",
    "    if count > 2:\n",
    "        y_majority.append(1)\n",
    "    else:\n",
    "        y_majority.append(0)"
   ]
  },
  {
   "cell_type": "code",
   "execution_count": 687,
   "metadata": {},
   "outputs": [],
   "source": [
    "x_even = []\n",
    "\n",
    "for i in [0, 1]:\n",
    "    for j in [0, 1]:\n",
    "        for k in [0, 1]:\n",
    "            for l in [0, 1]:\n",
    "                for m in [0, 1]:\n",
    "                    x_even.append([i, j, k, l, m])\n",
    "\n",
    "y_even = []\n",
    "for ele in x_even:\n",
    "    count = 0\n",
    "    for i in ele:\n",
    "        if i == 1:\n",
    "            count += 1\n",
    "    if count % 2 == 0:\n",
    "        y_even.append(1)\n",
    "    else:\n",
    "        y_even.append(0)\n",
    "\n",
    "x_even = np.array(x_even)\n",
    "y_even = np.array(y_even)"
   ]
  },
  {
   "cell_type": "code",
   "execution_count": 688,
   "metadata": {},
   "outputs": [],
   "source": [
    "def sigmoid(a):\n",
    "    return 1 / (1 + np.exp(-a))"
   ]
  },
  {
   "cell_type": "code",
   "execution_count": 689,
   "metadata": {},
   "outputs": [],
   "source": [
    "def softmax(Z):\n",
    "    eZ = np.exp(Z)\n",
    "    eZ = eZ / np.sum(eZ)\n",
    "    return eZ"
   ]
  },
  {
   "cell_type": "code",
   "execution_count": 690,
   "metadata": {},
   "outputs": [],
   "source": [
    "def architecture(layers, Nl):\n",
    "    W = {}\n",
    "    B = {}\n",
    "    W0 = np.random.random((Nl[0], Nl[1]))\n",
    "    W1 = np.random.random((Nl[1], Nl[2]))\n",
    "    W2 = np.random.random((Nl[2], Nl[3]))\n",
    "    B0 = np.random.random((1, Nl[1]))\n",
    "    B1 = np.random.random((1, Nl[2]))\n",
    "    B2 = np.random.random((1, Nl[3]))\n",
    "\n",
    "    W[\"W0\"] = W0\n",
    "    W[\"W1\"] = W1\n",
    "    W[\"W2\"] = W2\n",
    "    B[\"B0\"] = B0\n",
    "    B[\"B1\"] = B1\n",
    "    B[\"B2\"] = B2\n",
    "    \n",
    "    return W, B"
   ]
  },
  {
   "cell_type": "code",
   "execution_count": 691,
   "metadata": {},
   "outputs": [],
   "source": [
    "def forwardProp(X, W, B):\n",
    "    outputs = {}\n",
    "    Z0 = np.dot(X, W[\"W0\"]) + B[\"B0\"]\n",
    "    A0 = sigmoid(Z0)\n",
    "    Z1 = np.dot(A0, W[\"W1\"]) + B[\"B1\"]\n",
    "    A1 = sigmoid(Z1)\n",
    "    Z2 = np.dot(A1, W[\"W2\"]) + B[\"B2\"]\n",
    "    A2 = sigmoid(Z2)\n",
    "    outputs[\"A0\"] = A0\n",
    "    outputs[\"A1\"] = A1\n",
    "    outputs[\"A2\"] = A2\n",
    "    return outputs"
   ]
  },
  {
   "cell_type": "code",
   "execution_count": 692,
   "metadata": {},
   "outputs": [],
   "source": [
    "def forwardPropMNIST(X, W, B):\n",
    "    outputs = {}\n",
    "    Z0 = np.dot(X, W[\"W0\"]) + B[\"B0\"]\n",
    "    A0 = sigmoid(Z0)\n",
    "    Z1 = np.dot(A0, W[\"W1\"]) + B[\"B1\"]\n",
    "    A1 = sigmoid(Z1)\n",
    "    Z2 = np.dot(A1, W[\"W2\"]) + B[\"B2\"]\n",
    "    A2 = softmax(Z2)\n",
    "    print(A2)\n",
    "    outputs[\"A0\"] = A0\n",
    "    outputs[\"A1\"] = A1\n",
    "    outputs[\"A2\"] = A2\n",
    "    return outputs"
   ]
  },
  {
   "cell_type": "code",
   "execution_count": 693,
   "metadata": {},
   "outputs": [],
   "source": [
    "def backProp(X, W, B, Y, lr):\n",
    "    \n",
    "    for i in range(1000):\n",
    "\n",
    "        outputs = forwardProp(X, W, B)\n",
    "        \n",
    "        error2 = outputs[\"A2\"] - Y.reshape(X.shape[0],1)\n",
    "        error2_ce = Y * np.log(outputs[\"A2\"]) + (1 - Y) * np.log(1 - outputs[\"A2\"])\n",
    "        \n",
    "        errors.append(1 / (X.shape[0] * X.shape[0]) * np.sum(error2**2))\n",
    "        ce_errors.append(- 1 / (X.shape[0] * X.shape[0]) * np.sum(error2_ce))\n",
    "        \n",
    "        A0 = outputs[\"A0\"]\n",
    "        A1 = outputs[\"A1\"]\n",
    "        A2 = outputs[\"A2\"]\n",
    "        \n",
    "        dw2 = np.dot(A2.T, error2)\n",
    "        db2 = np.sum(error2, axis = 0)\n",
    "    \n",
    "        error1 = np.dot(error2, W[\"W2\"].T)\n",
    "        dw1 = np.dot(A1.T, error1)\n",
    "        db1 = np.sum(error1, axis = 0)\n",
    "    \n",
    "        error0 = np.dot(error1, W[\"W1\"].T)\n",
    "        dw0 = np.dot(A0.T, error0)\n",
    "        db0 = np.sum(error0, axis = 0)\n",
    "        \n",
    "        \n",
    "        W[\"W2\"] -= dw2*lr\n",
    "        B[\"B2\"] -= db2*lr\n",
    "        W[\"W1\"] -= dw1*lr\n",
    "        B[\"B1\"] -= db1*lr\n",
    "        W[\"W0\"] -= dw0*lr\n",
    "        B[\"B0\"] -= db0*lr\n",
    "\n",
    "    return W, B"
   ]
  },
  {
   "cell_type": "code",
   "execution_count": 694,
   "metadata": {},
   "outputs": [],
   "source": [
    "errors = []\n",
    "ce_errors = []\n",
    "W, B = architecture(4, [2, 2, 2, 1])\n",
    "w, b = backProp(x_xor, W, B, y_xor, 0.01)"
   ]
  },
  {
   "cell_type": "code",
   "execution_count": 695,
   "metadata": {},
   "outputs": [
    {
     "data": {
      "text/plain": [
       "[<matplotlib.lines.Line2D at 0x7f8cd15eecb0>]"
      ]
     },
     "execution_count": 695,
     "metadata": {},
     "output_type": "execute_result"
    },
    {
     "data": {
      "image/png": "[encoded data removed]",
      "text/plain": [
       "<Figure size 432x288 with 1 Axes>"
      ]
     },
     "metadata": {
      "needs_background": "light"
     },
     "output_type": "display_data"
    }
   ],
   "source": [
    "plt.plot(errors)"
   ]
  },
  {
   "cell_type": "code",
   "execution_count": 696,
   "metadata": {},
   "outputs": [
    {
     "data": {
      "text/plain": [
       "[<matplotlib.lines.Line2D at 0x7f8cd0ebdbd0>]"
      ]
     },
     "execution_count": 696,
     "metadata": {},
     "output_type": "execute_result"
    },
    {
     "data": {
      "image/png": "[encoded data removed]",
      "text/plain": [
       "<Figure size 432x288 with 1 Axes>"
      ]
     },
     "metadata": {
      "needs_background": "light"
     },
     "output_type": "display_data"
    }
   ],
   "source": [
    "plt.plot(ce_errors)"
   ]
  },
  {
   "cell_type": "code",
   "execution_count": 697,
   "metadata": {},
   "outputs": [],
   "source": [
    "errors = []\n",
    "ce_errors = []\n",
    "W, B = architecture(4, [5, 5, 5, 1])\n",
    "w, b = backProp(x_palindrome, W, B, y_palindrome, 0.001)"
   ]
  },
  {
   "cell_type": "code",
   "execution_count": 698,
   "metadata": {},
   "outputs": [
    {
     "data": {
      "text/plain": [
       "[<matplotlib.lines.Line2D at 0x7f8cd0f0afb0>]"
      ]
     },
     "execution_count": 698,
     "metadata": {},
     "output_type": "execute_result"
    },
    {
     "data": {
      "image/png": "[encoded data removed]",
      "text/plain": [
       "<Figure size 432x288 with 1 Axes>"
      ]
     },
     "metadata": {
      "needs_background": "light"
     },
     "output_type": "display_data"
    }
   ],
   "source": [
    "plt.plot(errors)"
   ]
  },
  {
   "cell_type": "code",
   "execution_count": 699,
   "metadata": {},
   "outputs": [
    {
     "data": {
      "text/plain": [
       "[<matplotlib.lines.Line2D at 0x7f8ccd4a19f0>]"
      ]
     },
     "execution_count": 699,
     "metadata": {},
     "output_type": "execute_result"
    },
    {
     "data": {
      "image/png": "[encoded data removed]",
      "text/plain": [
       "<Figure size 432x288 with 1 Axes>"
      ]
     },
     "metadata": {
      "needs_background": "light"
     },
     "output_type": "display_data"
    }
   ],
   "source": [
    "plt.plot(ce_errors)"
   ]
  },
  {
   "cell_type": "code",
   "execution_count": 700,
   "metadata": {},
   "outputs": [],
   "source": [
    "errors = []\n",
    "ce_errors = []\n",
    "W, B = architecture(4, [5, 5, 5, 1])\n",
    "w, b = backProp(x_even, W, B, y_even, 0.0005)"
   ]
  },
  {
   "cell_type": "code",
   "execution_count": 701,
   "metadata": {},
   "outputs": [
    {
     "data": {
      "text/plain": [
       "[<matplotlib.lines.Line2D at 0x7f8ccd50a1a0>]"
      ]
     },
     "execution_count": 701,
     "metadata": {},
     "output_type": "execute_result"
    },
    {
     "data": {
      "image/png": "[encoded data removed]",
      "text/plain": [
       "<Figure size 432x288 with 1 Axes>"
      ]
     },
     "metadata": {
      "needs_background": "light"
     },
     "output_type": "display_data"
    }
   ],
   "source": [
    "plt.plot(errors)"
   ]
  },
  {
   "cell_type": "code",
   "execution_count": 702,
   "metadata": {},
   "outputs": [
    {
     "data": {
      "text/plain": [
       "[<matplotlib.lines.Line2D at 0x7f8cd0fab280>]"
      ]
     },
     "execution_count": 702,
     "metadata": {},
     "output_type": "execute_result"
    },
    {
     "data": {
      "image/png": "[encoded data removed]",
      "text/plain": [
       "<Figure size 432x288 with 1 Axes>"
      ]
     },
     "metadata": {
      "needs_background": "light"
     },
     "output_type": "display_data"
    }
   ],
   "source": [
    "plt.plot(ce_errors)"
   ]
  },
  {
   "cell_type": "code",
   "execution_count": 703,
   "metadata": {},
   "outputs": [],
   "source": [
    "# errors = []\n",
    "# ce_errors = []"
   ]
  },
  {
   "cell_type": "code",
   "execution_count": 704,
   "metadata": {},
   "outputs": [],
   "source": [
    "# W, B = architecture(4, [784, 784, 784, 10])\n",
    "# w, b = backProp(X_train, W, B, y_train, 0.001)"
   ]
  },
  {
   "cell_type": "code",
   "execution_count": 705,
   "metadata": {},
   "outputs": [],
   "source": [
    "# plt.plot(errors)"
   ]
  },
  {
   "cell_type": "code",
   "execution_count": null,
   "metadata": {},
   "outputs": [],
   "source": []
  }
 ],
 "metadata": {
  "kernelspec": {
   "display_name": "Python 3 (ipykernel)",
   "language": "python",
   "name": "python3"
  },
  "language_info": {
   "codemirror_mode": {
    "name": "ipython",
    "version": 3
   },
   "file_extension": ".py",
   "mimetype": "text/x-python",
   "name": "python",
   "nbconvert_exporter": "python",
   "pygments_lexer": "ipython3",
   "version": "3.10.12"
  }
 },
 "nbformat": 4,
 "nbformat_minor": 4
}
